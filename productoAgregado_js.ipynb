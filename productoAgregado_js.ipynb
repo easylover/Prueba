{
  "nbformat": 4,
  "nbformat_minor": 0,
  "metadata": {
    "colab": {
      "provenance": [],
      "include_colab_link": true
    },
    "kernelspec": {
      "name": "python3",
      "display_name": "Python 3"
    },
    "language_info": {
      "name": "python"
    }
  },
  "cells": [
    {
      "cell_type": "markdown",
      "metadata": {
        "id": "view-in-github",
        "colab_type": "text"
      },
      "source": [
        "<a href=\"https://colab.research.google.com/github/easylover/Prueba/blob/master/productoAgregado_js.ipynb\" target=\"_parent\"><img src=\"https://colab.research.google.com/assets/colab-badge.svg\" alt=\"Open In Colab\"/></a>"
      ]
    },
    {
      "cell_type": "code",
      "execution_count": 2,
      "metadata": {
        "id": "JBQVNpTCjVZY",
        "outputId": "3c199778-b78d-4377-8489-30177595cabf",
        "colab": {
          "base_uri": "https://localhost:8080/",
          "height": 106
        }
      },
      "outputs": [
        {
          "output_type": "error",
          "ename": "SyntaxError",
          "evalue": "invalid syntax (<ipython-input-2-3b205a4e3841>, line 1)",
          "traceback": [
            "\u001b[0;36m  File \u001b[0;32m\"<ipython-input-2-3b205a4e3841>\"\u001b[0;36m, line \u001b[0;32m1\u001b[0m\n\u001b[0;31m    const axios = require('axios');\u001b[0m\n\u001b[0m          ^\u001b[0m\n\u001b[0;31mSyntaxError\u001b[0m\u001b[0;31m:\u001b[0m invalid syntax\n"
          ]
        }
      ],
      "source": [
        "const axios = require('axios');\n",
        "const readline = require('readline');\n",
        "\n",
        "// Configuración de credenciales para la API de Kaleido\n",
        "const username = 'u0rr4m4dwe';  // Usuario desde el archivo Postman\n",
        "const password = '5tPL04Ua6Bqq68a5p1mE9OLskJ63-7Oc4AExmElml_s';  // Contraseña desde el archivo Postman\n",
        "\n",
        "// URL base de la API\n",
        "const baseURL = 'https://u0n1gmmnvw-u0ytv9fnva-connect.us0-aws.kaleido.io/gateways/u0q220jm7x';\n",
        "\n",
        "// Dirección del contrato inteligente (reemplaza con la dirección real del contrato)\n",
        "const direccionContrato = '0x1234567890abcdef1234567890abcdef12345678';  // Asegúrate de usar la dirección correcta\n",
        "\n",
        "// Crear una instancia de axios con autenticación básica para la API de Kaleido\n",
        "const apiClient = axios.create({\n",
        "  baseURL: baseURL,\n",
        "  auth: {\n",
        "    username: username,\n",
        "    password: password\n",
        "  },\n",
        "  headers: {\n",
        "    'Content-Type': 'application/json',\n",
        "    'Accept': 'application/json'\n",
        "  }\n",
        "});\n",
        "\n",
        "// Función para agregar un producto al contrato\n",
        "async function agregarProducto(nombre, precio, cantidad) {\n",
        "  try {\n",
        "    // Hacemos la solicitud GET para agregar el producto\n",
        "    const response = await apiClient.get(`/${direccionContrato}/agregarProducto`, {\n",
        "      params: {\n",
        "        '_nombre': nombre,       // Nombre del producto\n",
        "        '_precio': precio,       // Precio del producto\n",
        "        '_cantidad': cantidad,   // Cantidad del producto\n",
        "        'kld-id': 'id-unico',    // ID único para la transacción\n",
        "        'kld-from': '0x29787197793971c5825332c635f9aaef437d1b40',  // Dirección 'from'\n",
        "        'kld-ethvalue': 0,       // Valor de Ether\n",
        "        'kld-gas': 21000,        // Gas\n",
        "        'kld-gasprice': 20000000000 // Precio del Gas\n",
        "      }\n",
        "    });\n",
        "\n",
        "    // Imprimir la respuesta de la API\n",
        "    console.log('Producto agregado exitosamente:');\n",
        "\n",
        "  } catch (error) {\n",
        "    // Capturar e imprimir errores si la solicitud falla\n",
        "    if (error.response) {\n",
        "      console.error('Error al agregar producto:', error.response.data);\n",
        "    } else {\n",
        "      console.error('Error:', error.message);\n",
        "    }\n",
        "  }\n",
        "}\n",
        "\n",
        "// Crear una interfaz para la entrada del usuario\n",
        "const rl = readline.createInterface({\n",
        "  input: process.stdin,\n",
        "  output: process.stdout\n",
        "});\n",
        "\n",
        "// Función para solicitar datos del producto\n",
        "function solicitarDatosProducto() {\n",
        "  rl.question('Nombre del producto: ', (nombre) => {\n",
        "    rl.question('Precio del producto: ', (precio) => {\n",
        "      rl.question('Cantidad del producto: ', (cantidad) => {\n",
        "        // Convertir precio y cantidad a números\n",
        "        const precioNumero = parseFloat(precio);\n",
        "        const cantidadNumero = parseInt(cantidad);\n",
        "\n",
        "        // Validar que precio y cantidad son números válidos\n",
        "        if (isNaN(precioNumero) || isNaN(cantidadNumero)) {\n",
        "          console.error('Precio y cantidad deben ser números válidos.');\n",
        "          rl.close();\n",
        "          return;\n",
        "        }\n",
        "\n",
        "        // Llamar a la función para agregar un producto\n",
        "        agregarProducto(nombre, precioNumero, cantidadNumero);\n",
        "\n",
        "        // Cerrar la interfaz\n",
        "        rl.close();\n",
        "      });\n",
        "    });\n",
        "  });\n",
        "}\n",
        "\n",
        "// Llamar a la función para solicitar datos\n",
        "solicitarDatosProducto();\n"
      ]
    },
    {
      "cell_type": "code",
      "source": [],
      "metadata": {
        "id": "G49aJ0ZETMPk"
      },
      "execution_count": null,
      "outputs": []
    },
    {
      "cell_type": "markdown",
      "source": [],
      "metadata": {
        "id": "idVvTuSyTI-Z"
      }
    },
    {
      "cell_type": "code",
      "source": [
        "# prompt: Una funcion para registrar votos en javascript\n",
        "\n",
        "// Función para registrar un voto\n",
        "function registrarVoto(candidato) {\n",
        "  // Aquí deberías implementar la lógica para registrar el voto.\n",
        "  // Esto podría incluir:\n",
        "  // 1. Verificar que el usuario no haya votado antes.\n",
        "  // 2. Incrementar el contador de votos para el candidato seleccionado.\n",
        "  // 3. Guardar el voto en una base de datos o en un archivo.\n",
        "\n",
        "  console.log(`Voto registrado para el candidato: ${candidato}`);\n",
        "}\n",
        "\n",
        "// Ejemplo de uso:\n",
        "registrarVoto(\"Candidato A\");"
      ],
      "metadata": {
        "id": "iOu_OxxMSTiM"
      },
      "execution_count": null,
      "outputs": []
    }
  ]
}